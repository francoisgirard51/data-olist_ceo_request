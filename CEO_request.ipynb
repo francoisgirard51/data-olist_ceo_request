{
 "cells": [
  {
   "cell_type": "markdown",
   "metadata": {
    "slideshow": {
     "slide_type": "skip"
    }
   },
   "source": [
    "# CEO-Request Challenge"
   ]
  },
  {
   "cell_type": "markdown",
   "metadata": {
    "slideshow": {
     "slide_type": "skip"
    }
   },
   "source": [
    "## 1. Summary of Problem Statement"
   ]
  },
  {
   "cell_type": "markdown",
   "metadata": {
    "slideshow": {
     "slide_type": "skip"
    }
   },
   "source": [
    "❓ **How could Olist improve its profit** ❓"
   ]
  },
  {
   "cell_type": "markdown",
   "metadata": {
    "slideshow": {
     "slide_type": "skip"
    }
   },
   "source": [
    "### P&L Rules"
   ]
  },
  {
   "cell_type": "markdown",
   "metadata": {
    "slideshow": {
     "slide_type": "skip"
    }
   },
   "source": [
    "#### Revenues  \n",
    "**Sales fees:** Olist takes a **10% cut** on the product price (excl. freight) of each order delivered  \n",
    "**Subscription fees:** Olist charges **80 BRL by month** per seller\n",
    "\n",
    "#### Costs\n",
    "**Reputation costs** *estimated* per order with bad reviews (<= 3 stars)  \n",
    "\n",
    "💡 In the long term, bad customer experience has business implications: low repeat rate, immediate customer support cost, refunds or unfavorable word of mouth communication. We will assume that we have an estimate measure of the monetary cost for each bad review:\n",
    "```python\n",
    "# review_score: cost(BRL)\n",
    "{'1 star': 100\n",
    "'2 stars': 50\n",
    "'3 stars': 40\n",
    "'4 stars': 0\n",
    "'5 stars': 0}\n",
    "```\n",
    "\n",
    "**IT costs:** Olist's **total cumulated IT Costs** scale with the square root of the total number of sellers that has ever join the platform, as well as the square root of the total cumulated number of products that was ever sold.  \n",
    "\n",
    "$IT\\_costs = \\alpha * \\sqrt{n\\_sellers} + \\beta * \\sqrt{n\\_products}$  \n",
    "Olist's data team gave us the following values for these scaling parameters:\n",
    "- $\\alpha = 3157.27$\n",
    "- $\\beta = 978.23$\n",
    "\n",
    "💡 Both number of sellers to manage and sales transaction are costly for IT systems.  \n",
    "💡 Yet square roots reflect scale-effects: IT-system are often more efficient as they grow bigger.  \n",
    "💡 Alpha > Beta means that \"Olist has a lower IT Cost with few sellers selling a lot of products rather than the opposite  \n",
    "- with **1000 sellers** and a total of **100 products** sold, the total IT cost accumulates to 109,624 BRL\n",
    "- with **100 sellers** and a total of **1000 products** sold, the total IT cost accumulates to 62,507 BRL\n",
    "\n",
    "Finally, The IT department also told you that since the birth of the marketplace, cumulated IT costs have amounted to **500,000 BRL**."
   ]
  },
  {
   "cell_type": "markdown",
   "metadata": {
    "slideshow": {
     "slide_type": "skip"
    }
   },
   "source": [
    "### Key Findings, so far"
   ]
  },
  {
   "cell_type": "markdown",
   "metadata": {
    "slideshow": {
     "slide_type": "skip"
    }
   },
   "source": [
    "- `wait_time` is the most significant factor behind low review scores  \n",
    "- `wait_time` is made up of seller's `delay_to_carrier` + `carrier_delivery_time`.  \n",
    "- The latter being outside of Olist's direct control, improving it is not a quick-win recommendation\n",
    "- On the contrary, a better selection of `sellers` can positively impact the `delay_to_carrier` and reduce the number of bad `review_scores` on Olist.\n",
    "- Comments of the bad reviews showed that some were linked to the seller or to the product itself."
   ]
  },
  {
   "cell_type": "markdown",
   "metadata": {
    "slideshow": {
     "slide_type": "skip"
    }
   },
   "source": [
    "💡 We recommend you to start with the the guided seller analysis in part 2 below  \n",
    "💪 But feel free to investigate into other hypothesis instead with part 3"
   ]
  },
  {
   "cell_type": "markdown",
   "metadata": {
    "slideshow": {
     "slide_type": "skip"
    }
   },
   "source": [
    "## 2. Should Olist remove under-performing sellers from its marketplace? 🕵🏻\n",
    "*(recommended)*"
   ]
  },
  {
   "cell_type": "markdown",
   "metadata": {
    "slideshow": {
     "slide_type": "skip"
    }
   },
   "source": [
    "To analyze the impact of removing the worse sellers from Olist's marketplace, we will perform a **what-if analysis**\n",
    "\n",
    "👉 **What would have happened if Olist had never accepted these sellers in the first place?**  \n",
    "\n",
    "*(In practice, it's hard to know in advance who is a good seller, but let's start with this approach and iterate later).*"
   ]
  },
  {
   "cell_type": "markdown",
   "metadata": {
    "slideshow": {
     "slide_type": "skip"
    }
   },
   "source": [
    "### 2.1 Data Preparation"
   ]
  },
  {
   "cell_type": "markdown",
   "metadata": {
    "slideshow": {
     "slide_type": "skip"
    }
   },
   "source": [
    "Compute, for each `seller_id`, and cumulated since the beginning:\n",
    "- the `revenues` it brings\n",
    "- the `review_costs` associated with all its bad reviews\n",
    "- the resulting `profits` (revenues - costs)\n",
    "\n",
    "👉 Write down a step-by-step strategy to create the DataFrame you need\n",
    "\n",
    "\n",
    "⚠️ Don't start from scratch, update your existing package 😉\n",
    "\n",
    "Starting from the `Seller` class of your `olist` package:\n",
    "\n",
    "Edit the `get_training_data` method so that the DataFrame it returns contains the fields:\n",
    "- `revenues`: sum of subscription and sales fees revenues\n",
    "- `cost_of_reviews`: sum of costs associated with bad reviews\n",
    "    - edit the `get_review_score` method of your `Seller` class as an intermediary step\n",
    "- `profits`: `revenues` - `cost_of_reviews`"
   ]
  },
  {
   "cell_type": "markdown",
   "metadata": {
    "slideshow": {
     "slide_type": "skip"
    }
   },
   "source": [
    "### 2.2 What-if Analysis"
   ]
  },
  {
   "cell_type": "markdown",
   "metadata": {
    "slideshow": {
     "slide_type": "skip"
    }
   },
   "source": [
    "👉 Time to perform the actual analysis, here are our steps:  \n",
    "\n",
    "1️⃣ Create a method that will help us update the IT Costs after removing sellers along with the products they sold\n",
    "\n",
    "2️⃣ Sort sellers by increasing profits\n",
    "\n",
    "3️⃣ Remove sellers one by one, starting from the one with the lowest profit.\n",
    "- For each number of sellers to remove, compute the financial impact on Olist global profits.\n",
    "\n",
    "4️⃣ Find an optimal number of sellers to remove that maximizes either Olist's profit margin or profit."
   ]
  },
  {
   "cell_type": "markdown",
   "metadata": {
    "slideshow": {
     "slide_type": "skip"
    }
   },
   "source": [
    "## 3. Investigate other Approaches 🕵️\n",
    "*(optional)*"
   ]
  },
  {
   "cell_type": "markdown",
   "metadata": {
    "slideshow": {
     "slide_type": "skip"
    }
   },
   "source": [
    "- Should Olist remove the worst performing products / categories from its marketplace entirely?\n",
    "- Should Olist remove only consistently underperforming sellers, after it has a honeymoon period of few months?\n",
    "- Should Olist restrict seller/customer pairs between certain states to avoid delays?\n",
    "- Should Olist acquire new sellers, with some cost assumptions to be suggested?\n",
    "- ..."
   ]
  },
  {
   "cell_type": "markdown",
   "metadata": {
    "heading_collapsed": true,
    "slideshow": {
     "slide_type": "skip"
    }
   },
   "source": [
    "## Your turn!"
   ]
  },
  {
   "cell_type": "markdown",
   "metadata": {
    "hidden": true,
    "slideshow": {
     "slide_type": "skip"
    }
   },
   "source": [
    "🧺 Keep this notebook tidy! \n",
    "\n",
    "📅 🗣 📊 You will present your insights to your favorite TA at the end of this `Communicate` unit."
   ]
  },
  {
   "cell_type": "code",
   "execution_count": 11,
   "metadata": {
    "hidden": true
   },
   "outputs": [],
   "source": [
    "import sys\n",
    "sys.path.append('/Users/francoisgirard/code/francoisgirard51/04-Decision-Science/01-Project-Setup/data-context-and-setup/olist')\n",
    "\n",
    "from seller import Seller"
   ]
  },
  {
   "cell_type": "code",
   "execution_count": 6,
   "metadata": {
    "hidden": true
   },
   "outputs": [
    {
     "data": {
      "text/html": [
       "<div>\n",
       "<style scoped>\n",
       "    .dataframe tbody tr th:only-of-type {\n",
       "        vertical-align: middle;\n",
       "    }\n",
       "\n",
       "    .dataframe tbody tr th {\n",
       "        vertical-align: top;\n",
       "    }\n",
       "\n",
       "    .dataframe thead th {\n",
       "        text-align: right;\n",
       "    }\n",
       "</style>\n",
       "<table border=\"1\" class=\"dataframe\">\n",
       "  <thead>\n",
       "    <tr style=\"text-align: right;\">\n",
       "      <th></th>\n",
       "      <th>seller_id</th>\n",
       "      <th>seller_city</th>\n",
       "      <th>seller_state</th>\n",
       "      <th>delay_to_carrier</th>\n",
       "      <th>wait_time</th>\n",
       "      <th>date_first_sale</th>\n",
       "      <th>date_last_sale</th>\n",
       "      <th>months_on_olist</th>\n",
       "      <th>share_of_one_stars</th>\n",
       "      <th>share_of_five_stars</th>\n",
       "      <th>review_score</th>\n",
       "      <th>cost_of_reviews</th>\n",
       "      <th>n_orders</th>\n",
       "      <th>quantity</th>\n",
       "      <th>quantity_per_order</th>\n",
       "      <th>sales</th>\n",
       "      <th>revenues</th>\n",
       "      <th>profits</th>\n",
       "    </tr>\n",
       "  </thead>\n",
       "  <tbody>\n",
       "    <tr>\n",
       "      <th>0</th>\n",
       "      <td>3442f8959a84dea7ee197c632cb2df15</td>\n",
       "      <td>campinas</td>\n",
       "      <td>SP</td>\n",
       "      <td>0.000000</td>\n",
       "      <td>13.018588</td>\n",
       "      <td>2017-05-05 16:25:11</td>\n",
       "      <td>2017-08-30 12:50:19</td>\n",
       "      <td>4.0</td>\n",
       "      <td>0.333333</td>\n",
       "      <td>0.333333</td>\n",
       "      <td>3.00</td>\n",
       "      <td>140</td>\n",
       "      <td>3</td>\n",
       "      <td>3</td>\n",
       "      <td>1.000</td>\n",
       "      <td>218.70</td>\n",
       "      <td>341.870</td>\n",
       "      <td>201.870</td>\n",
       "    </tr>\n",
       "    <tr>\n",
       "      <th>1</th>\n",
       "      <td>d1b65fc7debc3361ea86b5f14c68d2e2</td>\n",
       "      <td>mogi guacu</td>\n",
       "      <td>SP</td>\n",
       "      <td>0.000000</td>\n",
       "      <td>9.065716</td>\n",
       "      <td>2017-03-29 02:10:34</td>\n",
       "      <td>2018-06-06 20:15:21</td>\n",
       "      <td>14.0</td>\n",
       "      <td>0.050000</td>\n",
       "      <td>0.725000</td>\n",
       "      <td>4.55</td>\n",
       "      <td>240</td>\n",
       "      <td>40</td>\n",
       "      <td>41</td>\n",
       "      <td>1.025</td>\n",
       "      <td>11703.07</td>\n",
       "      <td>2290.307</td>\n",
       "      <td>2050.307</td>\n",
       "    </tr>\n",
       "    <tr>\n",
       "      <th>2</th>\n",
       "      <td>ce3ad9de960102d0677a81f5d0bb7b2d</td>\n",
       "      <td>rio de janeiro</td>\n",
       "      <td>RJ</td>\n",
       "      <td>0.000000</td>\n",
       "      <td>4.042292</td>\n",
       "      <td>2018-07-30 12:44:49</td>\n",
       "      <td>2018-07-30 12:44:49</td>\n",
       "      <td>0.0</td>\n",
       "      <td>0.000000</td>\n",
       "      <td>1.000000</td>\n",
       "      <td>5.00</td>\n",
       "      <td>0</td>\n",
       "      <td>1</td>\n",
       "      <td>1</td>\n",
       "      <td>1.000</td>\n",
       "      <td>158.00</td>\n",
       "      <td>15.800</td>\n",
       "      <td>15.800</td>\n",
       "    </tr>\n",
       "    <tr>\n",
       "      <th>3</th>\n",
       "      <td>c0f3eea2e14555b6faeea3dd58c1b1c3</td>\n",
       "      <td>sao paulo</td>\n",
       "      <td>SP</td>\n",
       "      <td>0.000000</td>\n",
       "      <td>5.667187</td>\n",
       "      <td>2018-08-03 00:44:08</td>\n",
       "      <td>2018-08-03 00:44:08</td>\n",
       "      <td>0.0</td>\n",
       "      <td>0.000000</td>\n",
       "      <td>1.000000</td>\n",
       "      <td>5.00</td>\n",
       "      <td>0</td>\n",
       "      <td>1</td>\n",
       "      <td>1</td>\n",
       "      <td>1.000</td>\n",
       "      <td>79.99</td>\n",
       "      <td>7.999</td>\n",
       "      <td>7.999</td>\n",
       "    </tr>\n",
       "    <tr>\n",
       "      <th>4</th>\n",
       "      <td>51a04a8a6bdcb23deccc82b0b80742cf</td>\n",
       "      <td>braganca paulista</td>\n",
       "      <td>SP</td>\n",
       "      <td>3.353727</td>\n",
       "      <td>35.314861</td>\n",
       "      <td>2017-11-14 12:15:25</td>\n",
       "      <td>2017-11-14 12:15:25</td>\n",
       "      <td>0.0</td>\n",
       "      <td>1.000000</td>\n",
       "      <td>0.000000</td>\n",
       "      <td>1.00</td>\n",
       "      <td>100</td>\n",
       "      <td>1</td>\n",
       "      <td>1</td>\n",
       "      <td>1.000</td>\n",
       "      <td>167.99</td>\n",
       "      <td>16.799</td>\n",
       "      <td>-83.201</td>\n",
       "    </tr>\n",
       "  </tbody>\n",
       "</table>\n",
       "</div>"
      ],
      "text/plain": [
       "                          seller_id        seller_city seller_state  \\\n",
       "0  3442f8959a84dea7ee197c632cb2df15           campinas           SP   \n",
       "1  d1b65fc7debc3361ea86b5f14c68d2e2         mogi guacu           SP   \n",
       "2  ce3ad9de960102d0677a81f5d0bb7b2d     rio de janeiro           RJ   \n",
       "3  c0f3eea2e14555b6faeea3dd58c1b1c3          sao paulo           SP   \n",
       "4  51a04a8a6bdcb23deccc82b0b80742cf  braganca paulista           SP   \n",
       "\n",
       "   delay_to_carrier  wait_time     date_first_sale      date_last_sale  \\\n",
       "0          0.000000  13.018588 2017-05-05 16:25:11 2017-08-30 12:50:19   \n",
       "1          0.000000   9.065716 2017-03-29 02:10:34 2018-06-06 20:15:21   \n",
       "2          0.000000   4.042292 2018-07-30 12:44:49 2018-07-30 12:44:49   \n",
       "3          0.000000   5.667187 2018-08-03 00:44:08 2018-08-03 00:44:08   \n",
       "4          3.353727  35.314861 2017-11-14 12:15:25 2017-11-14 12:15:25   \n",
       "\n",
       "   months_on_olist  share_of_one_stars  share_of_five_stars  review_score  \\\n",
       "0              4.0            0.333333             0.333333          3.00   \n",
       "1             14.0            0.050000             0.725000          4.55   \n",
       "2              0.0            0.000000             1.000000          5.00   \n",
       "3              0.0            0.000000             1.000000          5.00   \n",
       "4              0.0            1.000000             0.000000          1.00   \n",
       "\n",
       "   cost_of_reviews  n_orders  quantity  quantity_per_order     sales  \\\n",
       "0              140         3         3               1.000    218.70   \n",
       "1              240        40        41               1.025  11703.07   \n",
       "2                0         1         1               1.000    158.00   \n",
       "3                0         1         1               1.000     79.99   \n",
       "4              100         1         1               1.000    167.99   \n",
       "\n",
       "   revenues   profits  \n",
       "0   341.870   201.870  \n",
       "1  2290.307  2050.307  \n",
       "2    15.800    15.800  \n",
       "3     7.999     7.999  \n",
       "4    16.799   -83.201  "
      ]
     },
     "execution_count": 6,
     "metadata": {},
     "output_type": "execute_result"
    }
   ],
   "source": [
    "# instance\n",
    "seller_instance = Seller()\n",
    "\n",
    "# données\n",
    "training_data = seller_instance.get_training_data()\n",
    "training_data.head()"
   ]
  },
  {
   "cell_type": "code",
   "execution_count": 7,
   "metadata": {
    "hidden": true
   },
   "outputs": [
    {
     "name": "stdout",
     "output_type": "stream",
     "text": [
      "Revenus totaux : 2785818.444\n",
      "Profits totaux : 1167608.4440000001\n",
      "Coût total des avis associés aux mauvaises critiques : 1618210\n"
     ]
    }
   ],
   "source": [
    "import pandas as pd\n",
    "\n",
    "\n",
    "# Calcul des revenus totaux\n",
    "total_revenues = training_data['revenues'].sum()\n",
    "print(f\"Revenus totaux : {total_revenues}\")\n",
    "\n",
    "# Calcul des profits totaux\n",
    "total_profits = training_data['profits'].sum()\n",
    "print(f\"Profits totaux : {total_profits}\")\n",
    "\n",
    "# Calcul du coût total des avis associés aux mauvaises critiques\n",
    "total_cost_of_reviews = training_data['cost_of_reviews'].sum()\n",
    "print(f\"Coût total des avis associés aux mauvaises critiques : {total_cost_of_reviews}\")"
   ]
  },
  {
   "cell_type": "markdown",
   "metadata": {
    "heading_collapsed": true
   },
   "source": [
    "## Create a method that will help us update the IT Costs after removing sellers along with the products they sold"
   ]
  },
  {
   "cell_type": "code",
   "execution_count": 8,
   "metadata": {
    "hidden": true
   },
   "outputs": [
    {
     "name": "stdout",
     "output_type": "stream",
     "text": [
      "Nouveaux coûts informatiques après suppression : 59299.393164359455\n"
     ]
    }
   ],
   "source": [
    "import sys\n",
    "sys.path.append('/Users/francoisgirard/code/francoisgirard51/04-Decision-Science/01-Project-Setup/data-context-and-setup/olist')\n",
    "\n",
    "from seller import Seller\n",
    "\n",
    "seller_instance = Seller()\n",
    "\n",
    "new_it_costs = seller_instance.update_it_costs(n_sellers=90, n_products=900)\n",
    "print(f\"Nouveaux coûts informatiques après suppression : {new_it_costs}\")"
   ]
  },
  {
   "cell_type": "markdown",
   "metadata": {
    "heading_collapsed": true
   },
   "source": [
    "## Sort sellers by increasing profits"
   ]
  },
  {
   "cell_type": "code",
   "execution_count": 10,
   "metadata": {
    "hidden": true
   },
   "outputs": [
    {
     "name": "stdout",
     "output_type": "stream",
     "text": [
      "                             seller_id            seller_city seller_state  \\\n",
      "769   6560211a19b47992c3666cc44a7e94c0              sao paulo           SP   \n",
      "2358  4a3ca9315b744ce9f8e9374361493884               ibitinga           SP   \n",
      "1357  cc419e0650a3c5ba77189a1882b7556a            santo andre           SP   \n",
      "945   ea8482cd71df3c1969d7b9473ff13abc              sao paulo           SP   \n",
      "315   8b321bb669392f5163d04c59e235e066              sao paulo           SP   \n",
      "453   1f50f920176fa81dab994f9023523100  sao jose do rio preto           SP   \n",
      "1213  d2374cbcbb3ca4ab1086534108cc3ab7               ibitinga           SP   \n",
      "1132  7c67e1448b00f6e969d365cea6b010ab        itaquaquecetuba           SP   \n",
      "2023  cca3071e3e9bb7d12640c9fbe2301306               ibitinga           SP   \n",
      "2687  1835b56ce799e6a4dc4eddc053f04066               ibitinga           SP   \n",
      "\n",
      "      delay_to_carrier  wait_time     date_first_sale      date_last_sale  \\\n",
      "769                0.0   9.539486 2017-02-17 07:45:11 2018-08-29 09:25:12   \n",
      "2358               0.0  14.416471 2017-01-08 09:45:12 2018-08-27 11:04:18   \n",
      "1357               0.0  11.539753 2017-02-02 17:10:21 2018-08-28 03:45:15   \n",
      "945                0.0  13.315562 2017-08-16 15:15:26 2018-08-25 02:45:21   \n",
      "315                0.0  12.616899 2017-10-27 16:31:30 2018-08-21 17:08:38   \n",
      "453                0.0  15.571831 2017-04-03 22:15:14 2018-08-28 03:45:18   \n",
      "1213               0.0  14.297115 2017-02-10 15:50:20 2018-08-22 04:04:20   \n",
      "1132               0.0  22.392546 2017-01-26 22:55:10 2018-08-08 03:10:34   \n",
      "2023               0.0  14.242646 2016-10-04 10:28:07 2018-08-22 23:05:18   \n",
      "2687               0.0  12.770314 2017-09-05 23:15:10 2018-08-25 16:50:21   \n",
      "\n",
      "      months_on_olist  share_of_one_stars  share_of_five_stars  review_score  \\\n",
      "769              18.0            0.124729             0.514100      3.937093   \n",
      "2358             20.0            0.143809             0.482510      3.827873   \n",
      "1357             19.0            0.116092             0.584483      4.077586   \n",
      "945              12.0            0.113935             0.527607      3.997371   \n",
      "315              10.0            0.118211             0.568690      4.074547   \n",
      "453              17.0            0.112536             0.600427      4.130342   \n",
      "1213             18.0            0.150376             0.460526      3.751880   \n",
      "1132             18.0            0.199593             0.351324      3.488798   \n",
      "2023             23.0            0.148045             0.505587      3.846369   \n",
      "2687             12.0            0.206161             0.447867      3.637441   \n",
      "\n",
      "      cost_of_reviews  n_orders  quantity  quantity_per_order      sales  \\\n",
      "769             35290      1854      2033            1.096548  123304.83   \n",
      "2358            39400      1806      1987            1.100221  200472.92   \n",
      "1357            29530      1706      1775            1.040445  104288.42   \n",
      "945             20220      1146      1203            1.049738   37177.52   \n",
      "315             15440       943      1018            1.079533   17535.69   \n",
      "453             21980      1404      1931            1.375356  106939.21   \n",
      "1213            12580       524       631            1.204198   21223.92   \n",
      "1132            28250       982      1364            1.389002  187923.89   \n",
      "2023            15620       712       830            1.165730   64009.89   \n",
      "2687            11430       423       558            1.319149   33344.21   \n",
      "\n",
      "       revenues    profits  \n",
      "769   13770.483 -21519.517  \n",
      "2358  21647.292 -17752.708  \n",
      "1357  11948.842 -17581.158  \n",
      "945    4677.752 -15542.248  \n",
      "315    2553.569 -12886.431  \n",
      "453   12053.921  -9926.079  \n",
      "1213   3562.392  -9017.608  \n",
      "1132  20232.389  -8017.611  \n",
      "2023   8240.989  -7379.011  \n",
      "2687   4294.421  -7135.579  \n"
     ]
    }
   ],
   "source": [
    "sorted_sellers = training_data.sort_values(by='profits')\n",
    "print(sorted_sellers.head(10))"
   ]
  },
  {
   "cell_type": "markdown",
   "metadata": {
    "heading_collapsed": true
   },
   "source": [
    "## Remove sellers one by one, starting from the one with the lowest profit. For each number of sellers to remove, compute the financial impact on Olist global profits."
   ]
  },
  {
   "cell_type": "code",
   "execution_count": 13,
   "metadata": {
    "hidden": true
   },
   "outputs": [
    {
     "name": "stdout",
     "output_type": "stream",
     "text": [
      "    n_sellers_removed  updated_global_profit  profit_change\n",
      "0                   1            1189127.961      21519.517\n",
      "1                   2            1206880.669      39272.225\n",
      "2                   3            1224461.827      56853.383\n",
      "3                   4            1240004.075      72395.631\n",
      "4                   5            1252890.506      85282.062\n",
      "5                   6            1262816.585      95208.141\n",
      "6                   7            1271834.193     104225.749\n",
      "7                   8            1279851.804     112243.360\n",
      "8                   9            1287230.815     119622.371\n",
      "9                  10            1294366.394     126757.950\n",
      "10                 11            1299783.533     132175.089\n",
      "11                 12            1304995.280     137386.836\n",
      "12                 13            1310131.123     142522.679\n",
      "13                 14            1315105.420     147496.976\n",
      "14                 15            1319663.028     152054.584\n",
      "15                 16            1324102.143     156493.699\n",
      "16                 17            1328487.488     160879.044\n",
      "17                 18            1332436.068     164827.624\n",
      "18                 19            1336221.205     168612.761\n",
      "19                 20            1340004.062     172395.618\n"
     ]
    }
   ],
   "source": [
    "results = []\n",
    "initial_global_profit = training_data['profits'].sum() # Calcul du profit global initial\n",
    "\n",
    "for i in range(len(sorted_sellers)):\n",
    "    # Supprime les vendeurs avec les profit les plus bas\n",
    "    remaining_sellers = sorted_sellers.iloc[i+1:]\n",
    "\n",
    "    # Recalcule le profit global après le retrait du vendeur\n",
    "    updated_global_profit = remaining_sellers['profits'].sum()\n",
    "\n",
    "    # Stocker dans la lite\n",
    "    results.append({\n",
    "        'n_sellers_removed': i + 1,\n",
    "        'updated_global_profit': updated_global_profit,\n",
    "        'profit_change': updated_global_profit - initial_global_profit\n",
    "    })\n",
    "\n",
    "results_df = pd.DataFrame(results)\n",
    "print(results_df.head(20))"
   ]
  },
  {
   "cell_type": "markdown",
   "metadata": {},
   "source": [
    "## Find an optimal number of sellers to remove that maximizes either Olist's profit margin or profit."
   ]
  },
  {
   "cell_type": "code",
   "execution_count": 14,
   "metadata": {},
   "outputs": [
    {
     "name": "stdout",
     "output_type": "stream",
     "text": [
      "Nombre optimal de vendeurs à retirer : 376.0\n",
      "Profit global après le retrait : 1474071.063\n"
     ]
    }
   ],
   "source": [
    "# Trouve la ligne où les profits globaux sont max\n",
    "optimal_row = results_df.loc[results_df['updated_global_profit'].idxmax()]\n",
    "\n",
    "# Extrait info pertinentes\n",
    "optimal_sellers_to_remove = optimal_row['n_sellers_removed']\n",
    "optimal_global_profit = optimal_row['updated_global_profit']\n",
    "print(f\"Nombre optimal de vendeurs à retirer : {optimal_sellers_to_remove}\")\n",
    "print(f\"Profit global après le retrait : {optimal_global_profit}\")"
   ]
  },
  {
   "cell_type": "markdown",
   "metadata": {
    "heading_collapsed": true
   },
   "source": [
    "# Optional"
   ]
  },
  {
   "cell_type": "markdown",
   "metadata": {
    "heading_collapsed": true,
    "hidden": true
   },
   "source": [
    "## Should Olist remove the worst performing products / categories from its marketplace entirely?"
   ]
  },
  {
   "cell_type": "code",
   "execution_count": null,
   "metadata": {
    "hidden": true
   },
   "outputs": [],
   "source": []
  },
  {
   "cell_type": "markdown",
   "metadata": {
    "heading_collapsed": true,
    "hidden": true
   },
   "source": [
    "## Should Olist remove only consistently underperforming sellers, after it has a honeymoon period of few months?"
   ]
  },
  {
   "cell_type": "code",
   "execution_count": null,
   "metadata": {
    "hidden": true
   },
   "outputs": [],
   "source": []
  },
  {
   "cell_type": "markdown",
   "metadata": {
    "heading_collapsed": true,
    "hidden": true
   },
   "source": [
    "## Should Olist restrict seller/customer pairs between certain states to avoid delays?"
   ]
  },
  {
   "cell_type": "code",
   "execution_count": null,
   "metadata": {
    "hidden": true
   },
   "outputs": [],
   "source": []
  },
  {
   "cell_type": "markdown",
   "metadata": {
    "heading_collapsed": true,
    "hidden": true
   },
   "source": [
    "## Should Olist acquire new sellers, with some cost assumptions to be suggested?"
   ]
  },
  {
   "cell_type": "code",
   "execution_count": null,
   "metadata": {
    "hidden": true
   },
   "outputs": [],
   "source": []
  }
 ],
 "metadata": {
  "kernelspec": {
   "display_name": "Python 3 (ipykernel)",
   "language": "python",
   "name": "python3"
  },
  "language_info": {
   "codemirror_mode": {
    "name": "ipython",
    "version": 3
   },
   "file_extension": ".py",
   "mimetype": "text/x-python",
   "name": "python",
   "nbconvert_exporter": "python",
   "pygments_lexer": "ipython3",
   "version": "3.10.6"
  },
  "toc": {
   "base_numbering": 1,
   "nav_menu": {},
   "number_sections": true,
   "sideBar": true,
   "skip_h1_title": false,
   "title_cell": "Table of Contents",
   "title_sidebar": "Contents",
   "toc_cell": false,
   "toc_position": {},
   "toc_section_display": true,
   "toc_window_display": false
  }
 },
 "nbformat": 4,
 "nbformat_minor": 4
}
